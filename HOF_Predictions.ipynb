{
  "nbformat": 4,
  "nbformat_minor": 0,
  "metadata": {
    "colab": {
      "name": "HOF_Predictions.ipynb",
      "provenance": []
    },
    "kernelspec": {
      "name": "python3",
      "display_name": "Python 3"
    },
    "language_info": {
      "name": "python"
    }
  },
  "cells": [
    {
      "cell_type": "markdown",
      "source": [
        "# **HOF Predictions of Current MLB Players**\n",
        "\n",
        "The purpose of this file is to generate HOF predictions for current MLB players. I will do so by completing the following tasks:\n",
        "\n",
        "* Loading the data (cleaned and prepared in R)\n",
        "* Partitioning the data into training and validation\n",
        "* Oversampling the response variable `inducted` (binary Y/N)\n",
        "* Testing different binary classification models\n",
        "* Evaluating models and selecting the best one\n",
        "\n",
        "Questions:\n",
        "* Select single best model or summarize predictions of all models tested?\n",
        "  * e.g. Mike Trout was predicted to make the HOF in 7/8 models\n",
        "* Where in the process to implement SMOTE oversampling?\n",
        "* Github as a medium for blog/results?"
      ],
      "metadata": {
        "id": "fGMcMLik1eFu"
      }
    },
    {
      "cell_type": "markdown",
      "source": [
        "# **1) Load the data**"
      ],
      "metadata": {
        "id": "-ak7e3SM5HDk"
      }
    },
    {
      "cell_type": "code",
      "execution_count": 6,
      "metadata": {
        "id": "TBrRXLsEt-LZ"
      },
      "outputs": [],
      "source": [
        "import pandas as pd\n",
        "\n",
        "# Read in the training/validation data\n",
        "df = pd.read_csv(\"train.csv\")"
      ]
    },
    {
      "cell_type": "code",
      "source": [
        "# View the first 5 observations of the data frame\n",
        "df.head()"
      ],
      "metadata": {
        "id": "6M8VE_SXuAJc",
        "colab": {
          "base_uri": "https://localhost:8080/",
          "height": 317
        },
        "outputId": "512c72cf-cbbd-41aa-f321-0ee9945ac825"
      },
      "execution_count": 7,
      "outputs": [
        {
          "output_type": "execute_result",
          "data": {
            "text/plain": [
              "   Unnamed: 0   playerID  LOS  recent_year           G          AB          R  \\\n",
              "0           1  aaronha01   23         1976  143.391304  537.565217  94.521739   \n",
              "1           2  aaronto01    7         1971   62.428571  134.857143  14.571429   \n",
              "2           3  abbated01    8         1910  103.375000  367.750000  43.250000   \n",
              "3           4  abbotfr01    3         1905   53.333333  171.000000  16.000000   \n",
              "4           5  abbotje01    5         2001   46.600000  119.200000  16.400000   \n",
              "\n",
              "            H        X2B       X3B  ...         SB        CS         SO  \\\n",
              "0  163.956522  27.130435  4.260870  ...  10.434783  3.173913  60.130435   \n",
              "1   30.857143   6.000000  0.857143  ...   1.285714  1.142857  20.714286   \n",
              "2   93.500000  11.875000  5.375000  ...  17.250000  1.000000  33.250000   \n",
              "3   35.666667   7.000000  2.000000  ...   4.666667  1.000000  25.000000   \n",
              "4   31.400000   6.600000  0.400000  ...   1.200000  1.000000  18.200000   \n",
              "\n",
              "          BB        IBB       HBP         SH        SF       GIDP  inducted  \n",
              "0  60.956522  12.782609  1.391304   0.913043  5.260870  14.260870         Y  \n",
              "1  12.285714   0.428571  0.000000   1.285714  0.857143   5.142857         N  \n",
              "2  35.125000   1.000000  4.000000  11.375000  1.000000   3.000000         N  \n",
              "3   6.333333   1.000000  2.666667   6.666667  1.000000   3.000000         N  \n",
              "4   7.600000   0.400000  0.600000   1.000000  1.400000   2.400000         N  \n",
              "\n",
              "[5 rows x 22 columns]"
            ],
            "text/html": [
              "\n",
              "  <div id=\"df-1b03f3f1-9c84-48df-93de-bbfa61ecfccb\">\n",
              "    <div class=\"colab-df-container\">\n",
              "      <div>\n",
              "<style scoped>\n",
              "    .dataframe tbody tr th:only-of-type {\n",
              "        vertical-align: middle;\n",
              "    }\n",
              "\n",
              "    .dataframe tbody tr th {\n",
              "        vertical-align: top;\n",
              "    }\n",
              "\n",
              "    .dataframe thead th {\n",
              "        text-align: right;\n",
              "    }\n",
              "</style>\n",
              "<table border=\"1\" class=\"dataframe\">\n",
              "  <thead>\n",
              "    <tr style=\"text-align: right;\">\n",
              "      <th></th>\n",
              "      <th>Unnamed: 0</th>\n",
              "      <th>playerID</th>\n",
              "      <th>LOS</th>\n",
              "      <th>recent_year</th>\n",
              "      <th>G</th>\n",
              "      <th>AB</th>\n",
              "      <th>R</th>\n",
              "      <th>H</th>\n",
              "      <th>X2B</th>\n",
              "      <th>X3B</th>\n",
              "      <th>...</th>\n",
              "      <th>SB</th>\n",
              "      <th>CS</th>\n",
              "      <th>SO</th>\n",
              "      <th>BB</th>\n",
              "      <th>IBB</th>\n",
              "      <th>HBP</th>\n",
              "      <th>SH</th>\n",
              "      <th>SF</th>\n",
              "      <th>GIDP</th>\n",
              "      <th>inducted</th>\n",
              "    </tr>\n",
              "  </thead>\n",
              "  <tbody>\n",
              "    <tr>\n",
              "      <th>0</th>\n",
              "      <td>1</td>\n",
              "      <td>aaronha01</td>\n",
              "      <td>23</td>\n",
              "      <td>1976</td>\n",
              "      <td>143.391304</td>\n",
              "      <td>537.565217</td>\n",
              "      <td>94.521739</td>\n",
              "      <td>163.956522</td>\n",
              "      <td>27.130435</td>\n",
              "      <td>4.260870</td>\n",
              "      <td>...</td>\n",
              "      <td>10.434783</td>\n",
              "      <td>3.173913</td>\n",
              "      <td>60.130435</td>\n",
              "      <td>60.956522</td>\n",
              "      <td>12.782609</td>\n",
              "      <td>1.391304</td>\n",
              "      <td>0.913043</td>\n",
              "      <td>5.260870</td>\n",
              "      <td>14.260870</td>\n",
              "      <td>Y</td>\n",
              "    </tr>\n",
              "    <tr>\n",
              "      <th>1</th>\n",
              "      <td>2</td>\n",
              "      <td>aaronto01</td>\n",
              "      <td>7</td>\n",
              "      <td>1971</td>\n",
              "      <td>62.428571</td>\n",
              "      <td>134.857143</td>\n",
              "      <td>14.571429</td>\n",
              "      <td>30.857143</td>\n",
              "      <td>6.000000</td>\n",
              "      <td>0.857143</td>\n",
              "      <td>...</td>\n",
              "      <td>1.285714</td>\n",
              "      <td>1.142857</td>\n",
              "      <td>20.714286</td>\n",
              "      <td>12.285714</td>\n",
              "      <td>0.428571</td>\n",
              "      <td>0.000000</td>\n",
              "      <td>1.285714</td>\n",
              "      <td>0.857143</td>\n",
              "      <td>5.142857</td>\n",
              "      <td>N</td>\n",
              "    </tr>\n",
              "    <tr>\n",
              "      <th>2</th>\n",
              "      <td>3</td>\n",
              "      <td>abbated01</td>\n",
              "      <td>8</td>\n",
              "      <td>1910</td>\n",
              "      <td>103.375000</td>\n",
              "      <td>367.750000</td>\n",
              "      <td>43.250000</td>\n",
              "      <td>93.500000</td>\n",
              "      <td>11.875000</td>\n",
              "      <td>5.375000</td>\n",
              "      <td>...</td>\n",
              "      <td>17.250000</td>\n",
              "      <td>1.000000</td>\n",
              "      <td>33.250000</td>\n",
              "      <td>35.125000</td>\n",
              "      <td>1.000000</td>\n",
              "      <td>4.000000</td>\n",
              "      <td>11.375000</td>\n",
              "      <td>1.000000</td>\n",
              "      <td>3.000000</td>\n",
              "      <td>N</td>\n",
              "    </tr>\n",
              "    <tr>\n",
              "      <th>3</th>\n",
              "      <td>4</td>\n",
              "      <td>abbotfr01</td>\n",
              "      <td>3</td>\n",
              "      <td>1905</td>\n",
              "      <td>53.333333</td>\n",
              "      <td>171.000000</td>\n",
              "      <td>16.000000</td>\n",
              "      <td>35.666667</td>\n",
              "      <td>7.000000</td>\n",
              "      <td>2.000000</td>\n",
              "      <td>...</td>\n",
              "      <td>4.666667</td>\n",
              "      <td>1.000000</td>\n",
              "      <td>25.000000</td>\n",
              "      <td>6.333333</td>\n",
              "      <td>1.000000</td>\n",
              "      <td>2.666667</td>\n",
              "      <td>6.666667</td>\n",
              "      <td>1.000000</td>\n",
              "      <td>3.000000</td>\n",
              "      <td>N</td>\n",
              "    </tr>\n",
              "    <tr>\n",
              "      <th>4</th>\n",
              "      <td>5</td>\n",
              "      <td>abbotje01</td>\n",
              "      <td>5</td>\n",
              "      <td>2001</td>\n",
              "      <td>46.600000</td>\n",
              "      <td>119.200000</td>\n",
              "      <td>16.400000</td>\n",
              "      <td>31.400000</td>\n",
              "      <td>6.600000</td>\n",
              "      <td>0.400000</td>\n",
              "      <td>...</td>\n",
              "      <td>1.200000</td>\n",
              "      <td>1.000000</td>\n",
              "      <td>18.200000</td>\n",
              "      <td>7.600000</td>\n",
              "      <td>0.400000</td>\n",
              "      <td>0.600000</td>\n",
              "      <td>1.000000</td>\n",
              "      <td>1.400000</td>\n",
              "      <td>2.400000</td>\n",
              "      <td>N</td>\n",
              "    </tr>\n",
              "  </tbody>\n",
              "</table>\n",
              "<p>5 rows × 22 columns</p>\n",
              "</div>\n",
              "      <button class=\"colab-df-convert\" onclick=\"convertToInteractive('df-1b03f3f1-9c84-48df-93de-bbfa61ecfccb')\"\n",
              "              title=\"Convert this dataframe to an interactive table.\"\n",
              "              style=\"display:none;\">\n",
              "        \n",
              "  <svg xmlns=\"http://www.w3.org/2000/svg\" height=\"24px\"viewBox=\"0 0 24 24\"\n",
              "       width=\"24px\">\n",
              "    <path d=\"M0 0h24v24H0V0z\" fill=\"none\"/>\n",
              "    <path d=\"M18.56 5.44l.94 2.06.94-2.06 2.06-.94-2.06-.94-.94-2.06-.94 2.06-2.06.94zm-11 1L8.5 8.5l.94-2.06 2.06-.94-2.06-.94L8.5 2.5l-.94 2.06-2.06.94zm10 10l.94 2.06.94-2.06 2.06-.94-2.06-.94-.94-2.06-.94 2.06-2.06.94z\"/><path d=\"M17.41 7.96l-1.37-1.37c-.4-.4-.92-.59-1.43-.59-.52 0-1.04.2-1.43.59L10.3 9.45l-7.72 7.72c-.78.78-.78 2.05 0 2.83L4 21.41c.39.39.9.59 1.41.59.51 0 1.02-.2 1.41-.59l7.78-7.78 2.81-2.81c.8-.78.8-2.07 0-2.86zM5.41 20L4 18.59l7.72-7.72 1.47 1.35L5.41 20z\"/>\n",
              "  </svg>\n",
              "      </button>\n",
              "      \n",
              "  <style>\n",
              "    .colab-df-container {\n",
              "      display:flex;\n",
              "      flex-wrap:wrap;\n",
              "      gap: 12px;\n",
              "    }\n",
              "\n",
              "    .colab-df-convert {\n",
              "      background-color: #E8F0FE;\n",
              "      border: none;\n",
              "      border-radius: 50%;\n",
              "      cursor: pointer;\n",
              "      display: none;\n",
              "      fill: #1967D2;\n",
              "      height: 32px;\n",
              "      padding: 0 0 0 0;\n",
              "      width: 32px;\n",
              "    }\n",
              "\n",
              "    .colab-df-convert:hover {\n",
              "      background-color: #E2EBFA;\n",
              "      box-shadow: 0px 1px 2px rgba(60, 64, 67, 0.3), 0px 1px 3px 1px rgba(60, 64, 67, 0.15);\n",
              "      fill: #174EA6;\n",
              "    }\n",
              "\n",
              "    [theme=dark] .colab-df-convert {\n",
              "      background-color: #3B4455;\n",
              "      fill: #D2E3FC;\n",
              "    }\n",
              "\n",
              "    [theme=dark] .colab-df-convert:hover {\n",
              "      background-color: #434B5C;\n",
              "      box-shadow: 0px 1px 3px 1px rgba(0, 0, 0, 0.15);\n",
              "      filter: drop-shadow(0px 1px 2px rgba(0, 0, 0, 0.3));\n",
              "      fill: #FFFFFF;\n",
              "    }\n",
              "  </style>\n",
              "\n",
              "      <script>\n",
              "        const buttonEl =\n",
              "          document.querySelector('#df-1b03f3f1-9c84-48df-93de-bbfa61ecfccb button.colab-df-convert');\n",
              "        buttonEl.style.display =\n",
              "          google.colab.kernel.accessAllowed ? 'block' : 'none';\n",
              "\n",
              "        async function convertToInteractive(key) {\n",
              "          const element = document.querySelector('#df-1b03f3f1-9c84-48df-93de-bbfa61ecfccb');\n",
              "          const dataTable =\n",
              "            await google.colab.kernel.invokeFunction('convertToInteractive',\n",
              "                                                     [key], {});\n",
              "          if (!dataTable) return;\n",
              "\n",
              "          const docLinkHtml = 'Like what you see? Visit the ' +\n",
              "            '<a target=\"_blank\" href=https://colab.research.google.com/notebooks/data_table.ipynb>data table notebook</a>'\n",
              "            + ' to learn more about interactive tables.';\n",
              "          element.innerHTML = '';\n",
              "          dataTable['output_type'] = 'display_data';\n",
              "          await google.colab.output.renderOutput(dataTable, element);\n",
              "          const docLink = document.createElement('div');\n",
              "          docLink.innerHTML = docLinkHtml;\n",
              "          element.appendChild(docLink);\n",
              "        }\n",
              "      </script>\n",
              "    </div>\n",
              "  </div>\n",
              "  "
            ]
          },
          "metadata": {},
          "execution_count": 7
        }
      ]
    },
    {
      "cell_type": "code",
      "source": [
        "# View the dimensions of the data frame\n",
        "df.shape"
      ],
      "metadata": {
        "id": "mBht4sTsuHnT",
        "colab": {
          "base_uri": "https://localhost:8080/"
        },
        "outputId": "64e76ede-073f-4a99-9b94-eb8faeada528"
      },
      "execution_count": 8,
      "outputs": [
        {
          "output_type": "execute_result",
          "data": {
            "text/plain": [
              "(6098, 22)"
            ]
          },
          "metadata": {},
          "execution_count": 8
        }
      ]
    },
    {
      "cell_type": "markdown",
      "source": [
        "# **2) Partition the data into training and validation subsets**"
      ],
      "metadata": {
        "id": "eelcxbtF5KPI"
      }
    },
    {
      "cell_type": "code",
      "source": [
        "# Create the X and y vectors\n",
        "import numpy as np\n",
        "\n",
        "X = df.drop(['inducted', 'Unnamed: 0', 'playerID', 'recent_year'], axis = 1)\n",
        "X = np.array(X)\n",
        "\n",
        "y = df['inducted'].values"
      ],
      "metadata": {
        "id": "rECxzp4K44mw"
      },
      "execution_count": 15,
      "outputs": []
    },
    {
      "cell_type": "code",
      "source": [
        "# Partition the data\n",
        "from sklearn.model_selection import train_test_split\n",
        "\n",
        "X_train, X_test, y_train, y_test = train_test_split(X, y, test_size = 0.20, random_state = 630)"
      ],
      "metadata": {
        "id": "em1gKTDL5nqe"
      },
      "execution_count": 16,
      "outputs": []
    },
    {
      "cell_type": "code",
      "source": [
        "X_train.shape"
      ],
      "metadata": {
        "colab": {
          "base_uri": "https://localhost:8080/"
        },
        "id": "v2XngBk05whs",
        "outputId": "57490393-05ef-462b-8d0e-a41fa52ba40f"
      },
      "execution_count": 17,
      "outputs": [
        {
          "output_type": "execute_result",
          "data": {
            "text/plain": [
              "(4878, 18)"
            ]
          },
          "metadata": {},
          "execution_count": 17
        }
      ]
    },
    {
      "cell_type": "code",
      "source": [
        "X_test.shape"
      ],
      "metadata": {
        "colab": {
          "base_uri": "https://localhost:8080/"
        },
        "id": "tZSwzcC_7QSD",
        "outputId": "1003b1b2-d996-47d4-f40b-2ef868b11d7d"
      },
      "execution_count": 18,
      "outputs": [
        {
          "output_type": "execute_result",
          "data": {
            "text/plain": [
              "(1220, 18)"
            ]
          },
          "metadata": {},
          "execution_count": 18
        }
      ]
    },
    {
      "cell_type": "code",
      "source": [
        "y_train.shape"
      ],
      "metadata": {
        "colab": {
          "base_uri": "https://localhost:8080/"
        },
        "id": "FXupGSar7SY3",
        "outputId": "ae1cdc81-8ff5-4d8b-ee7f-8981a2367a18"
      },
      "execution_count": 19,
      "outputs": [
        {
          "output_type": "execute_result",
          "data": {
            "text/plain": [
              "(4878,)"
            ]
          },
          "metadata": {},
          "execution_count": 19
        }
      ]
    },
    {
      "cell_type": "code",
      "source": [
        "y_test.shape"
      ],
      "metadata": {
        "colab": {
          "base_uri": "https://localhost:8080/"
        },
        "id": "RWr0gwZu7Uoy",
        "outputId": "f9f4def5-d6cd-4e1b-9891-eca9f5252723"
      },
      "execution_count": 20,
      "outputs": [
        {
          "output_type": "execute_result",
          "data": {
            "text/plain": [
              "(1220,)"
            ]
          },
          "metadata": {},
          "execution_count": 20
        }
      ]
    },
    {
      "cell_type": "markdown",
      "source": [
        "# **3) SMOTE Oversampling**"
      ],
      "metadata": {
        "id": "4zvXhVMN9bpe"
      }
    },
    {
      "cell_type": "code",
      "source": [
        ""
      ],
      "metadata": {
        "id": "bQT-H8Cw7WI-"
      },
      "execution_count": null,
      "outputs": []
    },
    {
      "cell_type": "markdown",
      "source": [
        "# **4) Build classifier algorithms on training and validation data**\n",
        "\n",
        "The algorithms we will test in this project are:\n",
        "* Logistic Regression\n",
        "* Decision Tree\n",
        "* Random Forest\n",
        "* AdaBoost\n",
        "* XGBoost\n",
        "* Multilayer-Perceptron Neural Network"
      ],
      "metadata": {
        "id": "kDVIvkRZ-Oh1"
      }
    },
    {
      "cell_type": "code",
      "source": [
        ""
      ],
      "metadata": {
        "id": "bNEzoDuL-35o"
      },
      "execution_count": null,
      "outputs": []
    },
    {
      "cell_type": "markdown",
      "source": [
        "# **5) Apply best model(s) to the test data set**"
      ],
      "metadata": {
        "id": "muTIAj5R-5XO"
      }
    },
    {
      "cell_type": "code",
      "source": [
        ""
      ],
      "metadata": {
        "id": "rOq2_q9k-_Xm"
      },
      "execution_count": null,
      "outputs": []
    }
  ]
}