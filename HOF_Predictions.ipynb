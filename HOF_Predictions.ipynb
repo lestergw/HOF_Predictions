{
  "nbformat": 4,
  "nbformat_minor": 0,
  "metadata": {
    "colab": {
      "name": "HOF_Predictions.ipynb",
      "provenance": []
    },
    "kernelspec": {
      "name": "python3",
      "display_name": "Python 3"
    },
    "language_info": {
      "name": "python"
    }
  },
  "cells": [
    {
      "cell_type": "markdown",
      "source": [
        "# **HOF Predictions of Current MLB Players**\n",
        "\n",
        "The purpose of this file is to generate HOF predictions for current MLB players. I will do so by completing the following tasks:\n",
        "\n",
        "* Loading the data (cleaned and prepared in R)\n",
        "* Partitioning the data into training and validation\n",
        "  * Oversampling the response variable `inducted` (binary Y/N)\n",
        "* Testing different binary classification models\n",
        "* Evaluating models and selecting the best one\n",
        "\n",
        "Questions:\n",
        "* Select single best model or summarize predictions of all models tested?\n",
        "  * e.g. Mike Trout was predicted to make the HOF in 7/8 models\n",
        "  * A: Single best model and make predictions\n",
        "* Where in the process to implement SMOTE oversampling?\n",
        "  * A: Right before fitting the model\n",
        "* Github as a medium for blog/results?\n",
        "  * A: Perfect!"
      ],
      "metadata": {
        "id": "fGMcMLik1eFu"
      }
    },
    {
      "cell_type": "markdown",
      "source": [
        "# **1) Load the data**"
      ],
      "metadata": {
        "id": "-ak7e3SM5HDk"
      }
    },
    {
      "cell_type": "code",
      "execution_count": null,
      "metadata": {
        "id": "TBrRXLsEt-LZ"
      },
      "outputs": [],
      "source": [
        "import pandas as pd\n",
        "\n",
        "# Read in the training/validation data\n",
        "df = pd.read_csv('/content/drive/MyDrive/Academics/MSBA/ISA 630/Final Project/train.csv')"
      ]
    },
    {
      "cell_type": "code",
      "source": [
        "# View the first 5 observations of the data frame\n",
        "df.head()"
      ],
      "metadata": {
        "id": "6M8VE_SXuAJc",
        "colab": {
          "base_uri": "https://localhost:8080/",
          "height": 317
        },
        "outputId": "a52b3022-2c68-4301-cfb0-5d5a99c8232a"
      },
      "execution_count": null,
      "outputs": [
        {
          "output_type": "execute_result",
          "data": {
            "text/plain": [
              "   Unnamed: 0   playerID  LOS  recent_year           G          AB          R  \\\n",
              "0           1  aaronha01   23         1976  143.391304  537.565217  94.521739   \n",
              "1           2  aaronto01    7         1971   62.428571  134.857143  14.571429   \n",
              "2           3  abbated01    8         1910  103.375000  367.750000  43.250000   \n",
              "3           4  abbotfr01    3         1905   53.333333  171.000000  16.000000   \n",
              "4           5  abbotje01    5         2001   46.600000  119.200000  16.400000   \n",
              "\n",
              "            H        X2B       X3B  ...         SB        CS         SO  \\\n",
              "0  163.956522  27.130435  4.260870  ...  10.434783  3.173913  60.130435   \n",
              "1   30.857143   6.000000  0.857143  ...   1.285714  1.142857  20.714286   \n",
              "2   93.500000  11.875000  5.375000  ...  17.250000  1.000000  33.250000   \n",
              "3   35.666667   7.000000  2.000000  ...   4.666667  1.000000  25.000000   \n",
              "4   31.400000   6.600000  0.400000  ...   1.200000  1.000000  18.200000   \n",
              "\n",
              "          BB        IBB       HBP         SH        SF       GIDP  inducted  \n",
              "0  60.956522  12.782609  1.391304   0.913043  5.260870  14.260870         Y  \n",
              "1  12.285714   0.428571  0.000000   1.285714  0.857143   5.142857         N  \n",
              "2  35.125000   1.000000  4.000000  11.375000  1.000000   3.000000         N  \n",
              "3   6.333333   1.000000  2.666667   6.666667  1.000000   3.000000         N  \n",
              "4   7.600000   0.400000  0.600000   1.000000  1.400000   2.400000         N  \n",
              "\n",
              "[5 rows x 22 columns]"
            ],
            "text/html": [
              "\n",
              "  <div id=\"df-dc86d70f-fe95-4a0a-947f-c620560e7df9\">\n",
              "    <div class=\"colab-df-container\">\n",
              "      <div>\n",
              "<style scoped>\n",
              "    .dataframe tbody tr th:only-of-type {\n",
              "        vertical-align: middle;\n",
              "    }\n",
              "\n",
              "    .dataframe tbody tr th {\n",
              "        vertical-align: top;\n",
              "    }\n",
              "\n",
              "    .dataframe thead th {\n",
              "        text-align: right;\n",
              "    }\n",
              "</style>\n",
              "<table border=\"1\" class=\"dataframe\">\n",
              "  <thead>\n",
              "    <tr style=\"text-align: right;\">\n",
              "      <th></th>\n",
              "      <th>Unnamed: 0</th>\n",
              "      <th>playerID</th>\n",
              "      <th>LOS</th>\n",
              "      <th>recent_year</th>\n",
              "      <th>G</th>\n",
              "      <th>AB</th>\n",
              "      <th>R</th>\n",
              "      <th>H</th>\n",
              "      <th>X2B</th>\n",
              "      <th>X3B</th>\n",
              "      <th>...</th>\n",
              "      <th>SB</th>\n",
              "      <th>CS</th>\n",
              "      <th>SO</th>\n",
              "      <th>BB</th>\n",
              "      <th>IBB</th>\n",
              "      <th>HBP</th>\n",
              "      <th>SH</th>\n",
              "      <th>SF</th>\n",
              "      <th>GIDP</th>\n",
              "      <th>inducted</th>\n",
              "    </tr>\n",
              "  </thead>\n",
              "  <tbody>\n",
              "    <tr>\n",
              "      <th>0</th>\n",
              "      <td>1</td>\n",
              "      <td>aaronha01</td>\n",
              "      <td>23</td>\n",
              "      <td>1976</td>\n",
              "      <td>143.391304</td>\n",
              "      <td>537.565217</td>\n",
              "      <td>94.521739</td>\n",
              "      <td>163.956522</td>\n",
              "      <td>27.130435</td>\n",
              "      <td>4.260870</td>\n",
              "      <td>...</td>\n",
              "      <td>10.434783</td>\n",
              "      <td>3.173913</td>\n",
              "      <td>60.130435</td>\n",
              "      <td>60.956522</td>\n",
              "      <td>12.782609</td>\n",
              "      <td>1.391304</td>\n",
              "      <td>0.913043</td>\n",
              "      <td>5.260870</td>\n",
              "      <td>14.260870</td>\n",
              "      <td>Y</td>\n",
              "    </tr>\n",
              "    <tr>\n",
              "      <th>1</th>\n",
              "      <td>2</td>\n",
              "      <td>aaronto01</td>\n",
              "      <td>7</td>\n",
              "      <td>1971</td>\n",
              "      <td>62.428571</td>\n",
              "      <td>134.857143</td>\n",
              "      <td>14.571429</td>\n",
              "      <td>30.857143</td>\n",
              "      <td>6.000000</td>\n",
              "      <td>0.857143</td>\n",
              "      <td>...</td>\n",
              "      <td>1.285714</td>\n",
              "      <td>1.142857</td>\n",
              "      <td>20.714286</td>\n",
              "      <td>12.285714</td>\n",
              "      <td>0.428571</td>\n",
              "      <td>0.000000</td>\n",
              "      <td>1.285714</td>\n",
              "      <td>0.857143</td>\n",
              "      <td>5.142857</td>\n",
              "      <td>N</td>\n",
              "    </tr>\n",
              "    <tr>\n",
              "      <th>2</th>\n",
              "      <td>3</td>\n",
              "      <td>abbated01</td>\n",
              "      <td>8</td>\n",
              "      <td>1910</td>\n",
              "      <td>103.375000</td>\n",
              "      <td>367.750000</td>\n",
              "      <td>43.250000</td>\n",
              "      <td>93.500000</td>\n",
              "      <td>11.875000</td>\n",
              "      <td>5.375000</td>\n",
              "      <td>...</td>\n",
              "      <td>17.250000</td>\n",
              "      <td>1.000000</td>\n",
              "      <td>33.250000</td>\n",
              "      <td>35.125000</td>\n",
              "      <td>1.000000</td>\n",
              "      <td>4.000000</td>\n",
              "      <td>11.375000</td>\n",
              "      <td>1.000000</td>\n",
              "      <td>3.000000</td>\n",
              "      <td>N</td>\n",
              "    </tr>\n",
              "    <tr>\n",
              "      <th>3</th>\n",
              "      <td>4</td>\n",
              "      <td>abbotfr01</td>\n",
              "      <td>3</td>\n",
              "      <td>1905</td>\n",
              "      <td>53.333333</td>\n",
              "      <td>171.000000</td>\n",
              "      <td>16.000000</td>\n",
              "      <td>35.666667</td>\n",
              "      <td>7.000000</td>\n",
              "      <td>2.000000</td>\n",
              "      <td>...</td>\n",
              "      <td>4.666667</td>\n",
              "      <td>1.000000</td>\n",
              "      <td>25.000000</td>\n",
              "      <td>6.333333</td>\n",
              "      <td>1.000000</td>\n",
              "      <td>2.666667</td>\n",
              "      <td>6.666667</td>\n",
              "      <td>1.000000</td>\n",
              "      <td>3.000000</td>\n",
              "      <td>N</td>\n",
              "    </tr>\n",
              "    <tr>\n",
              "      <th>4</th>\n",
              "      <td>5</td>\n",
              "      <td>abbotje01</td>\n",
              "      <td>5</td>\n",
              "      <td>2001</td>\n",
              "      <td>46.600000</td>\n",
              "      <td>119.200000</td>\n",
              "      <td>16.400000</td>\n",
              "      <td>31.400000</td>\n",
              "      <td>6.600000</td>\n",
              "      <td>0.400000</td>\n",
              "      <td>...</td>\n",
              "      <td>1.200000</td>\n",
              "      <td>1.000000</td>\n",
              "      <td>18.200000</td>\n",
              "      <td>7.600000</td>\n",
              "      <td>0.400000</td>\n",
              "      <td>0.600000</td>\n",
              "      <td>1.000000</td>\n",
              "      <td>1.400000</td>\n",
              "      <td>2.400000</td>\n",
              "      <td>N</td>\n",
              "    </tr>\n",
              "  </tbody>\n",
              "</table>\n",
              "<p>5 rows × 22 columns</p>\n",
              "</div>\n",
              "      <button class=\"colab-df-convert\" onclick=\"convertToInteractive('df-dc86d70f-fe95-4a0a-947f-c620560e7df9')\"\n",
              "              title=\"Convert this dataframe to an interactive table.\"\n",
              "              style=\"display:none;\">\n",
              "        \n",
              "  <svg xmlns=\"http://www.w3.org/2000/svg\" height=\"24px\"viewBox=\"0 0 24 24\"\n",
              "       width=\"24px\">\n",
              "    <path d=\"M0 0h24v24H0V0z\" fill=\"none\"/>\n",
              "    <path d=\"M18.56 5.44l.94 2.06.94-2.06 2.06-.94-2.06-.94-.94-2.06-.94 2.06-2.06.94zm-11 1L8.5 8.5l.94-2.06 2.06-.94-2.06-.94L8.5 2.5l-.94 2.06-2.06.94zm10 10l.94 2.06.94-2.06 2.06-.94-2.06-.94-.94-2.06-.94 2.06-2.06.94z\"/><path d=\"M17.41 7.96l-1.37-1.37c-.4-.4-.92-.59-1.43-.59-.52 0-1.04.2-1.43.59L10.3 9.45l-7.72 7.72c-.78.78-.78 2.05 0 2.83L4 21.41c.39.39.9.59 1.41.59.51 0 1.02-.2 1.41-.59l7.78-7.78 2.81-2.81c.8-.78.8-2.07 0-2.86zM5.41 20L4 18.59l7.72-7.72 1.47 1.35L5.41 20z\"/>\n",
              "  </svg>\n",
              "      </button>\n",
              "      \n",
              "  <style>\n",
              "    .colab-df-container {\n",
              "      display:flex;\n",
              "      flex-wrap:wrap;\n",
              "      gap: 12px;\n",
              "    }\n",
              "\n",
              "    .colab-df-convert {\n",
              "      background-color: #E8F0FE;\n",
              "      border: none;\n",
              "      border-radius: 50%;\n",
              "      cursor: pointer;\n",
              "      display: none;\n",
              "      fill: #1967D2;\n",
              "      height: 32px;\n",
              "      padding: 0 0 0 0;\n",
              "      width: 32px;\n",
              "    }\n",
              "\n",
              "    .colab-df-convert:hover {\n",
              "      background-color: #E2EBFA;\n",
              "      box-shadow: 0px 1px 2px rgba(60, 64, 67, 0.3), 0px 1px 3px 1px rgba(60, 64, 67, 0.15);\n",
              "      fill: #174EA6;\n",
              "    }\n",
              "\n",
              "    [theme=dark] .colab-df-convert {\n",
              "      background-color: #3B4455;\n",
              "      fill: #D2E3FC;\n",
              "    }\n",
              "\n",
              "    [theme=dark] .colab-df-convert:hover {\n",
              "      background-color: #434B5C;\n",
              "      box-shadow: 0px 1px 3px 1px rgba(0, 0, 0, 0.15);\n",
              "      filter: drop-shadow(0px 1px 2px rgba(0, 0, 0, 0.3));\n",
              "      fill: #FFFFFF;\n",
              "    }\n",
              "  </style>\n",
              "\n",
              "      <script>\n",
              "        const buttonEl =\n",
              "          document.querySelector('#df-dc86d70f-fe95-4a0a-947f-c620560e7df9 button.colab-df-convert');\n",
              "        buttonEl.style.display =\n",
              "          google.colab.kernel.accessAllowed ? 'block' : 'none';\n",
              "\n",
              "        async function convertToInteractive(key) {\n",
              "          const element = document.querySelector('#df-dc86d70f-fe95-4a0a-947f-c620560e7df9');\n",
              "          const dataTable =\n",
              "            await google.colab.kernel.invokeFunction('convertToInteractive',\n",
              "                                                     [key], {});\n",
              "          if (!dataTable) return;\n",
              "\n",
              "          const docLinkHtml = 'Like what you see? Visit the ' +\n",
              "            '<a target=\"_blank\" href=https://colab.research.google.com/notebooks/data_table.ipynb>data table notebook</a>'\n",
              "            + ' to learn more about interactive tables.';\n",
              "          element.innerHTML = '';\n",
              "          dataTable['output_type'] = 'display_data';\n",
              "          await google.colab.output.renderOutput(dataTable, element);\n",
              "          const docLink = document.createElement('div');\n",
              "          docLink.innerHTML = docLinkHtml;\n",
              "          element.appendChild(docLink);\n",
              "        }\n",
              "      </script>\n",
              "    </div>\n",
              "  </div>\n",
              "  "
            ]
          },
          "metadata": {},
          "execution_count": 2
        }
      ]
    },
    {
      "cell_type": "code",
      "source": [
        "# View the dimensions of the data frame\n",
        "df.shape"
      ],
      "metadata": {
        "id": "mBht4sTsuHnT",
        "colab": {
          "base_uri": "https://localhost:8080/"
        },
        "outputId": "e9ad94c6-fdd8-4f86-d5a6-da21a69b110b"
      },
      "execution_count": null,
      "outputs": [
        {
          "output_type": "execute_result",
          "data": {
            "text/plain": [
              "(5813, 22)"
            ]
          },
          "metadata": {},
          "execution_count": 3
        }
      ]
    },
    {
      "cell_type": "markdown",
      "source": [
        "# **2) Partition the data into training and validation subsets**"
      ],
      "metadata": {
        "id": "eelcxbtF5KPI"
      }
    },
    {
      "cell_type": "code",
      "source": [
        "# Create the X and y vectors\n",
        "import numpy as np\n",
        "\n",
        "X = df.drop(['inducted', 'Unnamed: 0', 'playerID', 'recent_year', 'LOS'], axis = 1)\n",
        "X = np.array(X)\n",
        "\n",
        "y = df['inducted'].map(dict(Y = 1, N = 0))"
      ],
      "metadata": {
        "id": "rECxzp4K44mw"
      },
      "execution_count": null,
      "outputs": []
    },
    {
      "cell_type": "code",
      "source": [
        "# SMOTE Oversampling\n",
        "from imblearn.over_sampling import SMOTE\n",
        "\n",
        "oversample = SMOTE(random_state = 630)\n",
        "X, y = oversample.fit_resample(X, y)"
      ],
      "metadata": {
        "id": "gr1Y4OdkKcjB"
      },
      "execution_count": null,
      "outputs": []
    },
    {
      "cell_type": "code",
      "source": [
        "# Partition the data\n",
        "from sklearn.model_selection import train_test_split\n",
        "\n",
        "X_train, X_test, y_train, y_test = train_test_split(X, y, test_size = 0.20, random_state = 630)"
      ],
      "metadata": {
        "id": "em1gKTDL5nqe"
      },
      "execution_count": null,
      "outputs": []
    },
    {
      "cell_type": "code",
      "source": [
        "X_train.shape"
      ],
      "metadata": {
        "colab": {
          "base_uri": "https://localhost:8080/"
        },
        "id": "v2XngBk05whs",
        "outputId": "3fd1c508-01d0-46e9-b3ba-87c70da8ba64"
      },
      "execution_count": null,
      "outputs": [
        {
          "output_type": "execute_result",
          "data": {
            "text/plain": [
              "(9059, 17)"
            ]
          },
          "metadata": {},
          "execution_count": 7
        }
      ]
    },
    {
      "cell_type": "code",
      "source": [
        "X_test.shape"
      ],
      "metadata": {
        "colab": {
          "base_uri": "https://localhost:8080/"
        },
        "id": "tZSwzcC_7QSD",
        "outputId": "10570ab6-1b8c-4a10-f3de-8e6d8bd6cbcf"
      },
      "execution_count": null,
      "outputs": [
        {
          "output_type": "execute_result",
          "data": {
            "text/plain": [
              "(2265, 17)"
            ]
          },
          "metadata": {},
          "execution_count": 8
        }
      ]
    },
    {
      "cell_type": "code",
      "source": [
        "y_train.shape"
      ],
      "metadata": {
        "colab": {
          "base_uri": "https://localhost:8080/"
        },
        "id": "FXupGSar7SY3",
        "outputId": "4508f322-d0e5-4f1d-98b1-a466ecf5356a"
      },
      "execution_count": null,
      "outputs": [
        {
          "output_type": "execute_result",
          "data": {
            "text/plain": [
              "(9059,)"
            ]
          },
          "metadata": {},
          "execution_count": 9
        }
      ]
    },
    {
      "cell_type": "code",
      "source": [
        "y_test.shape"
      ],
      "metadata": {
        "colab": {
          "base_uri": "https://localhost:8080/"
        },
        "id": "RWr0gwZu7Uoy",
        "outputId": "3dd9bd93-2d43-4fa0-f712-e17b6aedf537"
      },
      "execution_count": null,
      "outputs": [
        {
          "output_type": "execute_result",
          "data": {
            "text/plain": [
              "(2265,)"
            ]
          },
          "metadata": {},
          "execution_count": 10
        }
      ]
    },
    {
      "cell_type": "markdown",
      "source": [
        "# **3) Build classifier algorithms on training and validation data**\n",
        "\n",
        "The algorithms we will test in this project are:\n",
        "* Logistic Regression\n",
        "* Decision Tree\n",
        "* Random Forest\n",
        "* AdaBoost\n",
        "* XGBoost\n",
        "* Multilayer-Perceptron Neural Network"
      ],
      "metadata": {
        "id": "kDVIvkRZ-Oh1"
      }
    },
    {
      "cell_type": "markdown",
      "source": [
        "### **Logistic Regression**"
      ],
      "metadata": {
        "id": "VQa79u99Pl9K"
      }
    },
    {
      "cell_type": "code",
      "source": [
        "from sklearn.linear_model import LogisticRegression\n",
        "lr = LogisticRegression(solver = 'liblinear')"
      ],
      "metadata": {
        "id": "bNEzoDuL-35o"
      },
      "execution_count": null,
      "outputs": []
    },
    {
      "cell_type": "code",
      "source": [
        "## .fit method here on the training data\n",
        "lr.fit(X_train, y_train)\n",
        "\n",
        "## .predict to check how we do on the training and testing data\n",
        "yhat_lr_train = lr.predict(X_train)\n",
        "yhat_lr_test = lr.predict(X_test)\n",
        "\n",
        "## Performance Metrics\n",
        "from sklearn.metrics import accuracy_score, roc_auc_score\n",
        "\n",
        "auc_train_logistic = roc_auc_score(y_train, yhat_lr_train)\n",
        "auc_test_logistic = roc_auc_score(y_test, yhat_lr_test)\n",
        "acc_train_logistic = accuracy_score(y_train, yhat_lr_train)\n",
        "acc_test_logistic = accuracy_score(y_test, yhat_lr_test)\n",
        "\n",
        "print(f'              Metrics Log. Reg                ')\n",
        "print(f'_________________________________________________\\n')\n",
        "print(f'Training AUC: {auc_train_logistic}')\n",
        "print(f'Test AUC: {auc_test_logistic}')\n",
        "print(f'Training Accuracy: {acc_train_logistic}')\n",
        "print(f'Test Accuracy: {acc_test_logistic}')\n",
        "print(f'_________________________________________________\\n')"
      ],
      "metadata": {
        "colab": {
          "base_uri": "https://localhost:8080/"
        },
        "id": "KzQcQea3PrgC",
        "outputId": "f9f76cd3-25b8-4caf-f1d9-47dc7ea6a35b"
      },
      "execution_count": null,
      "outputs": [
        {
          "output_type": "stream",
          "name": "stdout",
          "text": [
            "              Metrics Log. Reg                \n",
            "_________________________________________________\n",
            "\n",
            "Training AUC: 0.8901800212298888\n",
            "Test AUC: 0.8851622244538979\n",
            "Training Accuracy: 0.890164477315377\n",
            "Test Accuracy: 0.8852097130242825\n",
            "_________________________________________________\n",
            "\n"
          ]
        }
      ]
    },
    {
      "cell_type": "markdown",
      "source": [
        "### **Decision Tree**"
      ],
      "metadata": {
        "id": "_W0v-hknSZHq"
      }
    },
    {
      "cell_type": "code",
      "source": [
        "from sklearn.tree import DecisionTreeClassifier\n",
        "tree = DecisionTreeClassifier(criterion = 'entropy')"
      ],
      "metadata": {
        "id": "0heUNJd5SdYa"
      },
      "execution_count": null,
      "outputs": []
    },
    {
      "cell_type": "code",
      "source": [
        "## .fit method here on the training data\n",
        "tree.fit(X_train, y_train)\n",
        "\n",
        "## .predict to check how we do on the training and testing data\n",
        "yhat_tree_train = tree.predict(X_train)\n",
        "yhat_tree_test = tree.predict(X_test)\n",
        "\n",
        "## Performance Metrics\n",
        "from sklearn.metrics import accuracy_score, roc_auc_score\n",
        "\n",
        "auc_train_tree = roc_auc_score(y_train, yhat_tree_train)\n",
        "auc_test_tree = roc_auc_score(y_test, yhat_tree_test)\n",
        "acc_train_tree = accuracy_score(y_train, yhat_tree_train)\n",
        "acc_test_tree = accuracy_score(y_test, yhat_tree_test)\n",
        "\n",
        "print(f'              Metrics Tree                ')\n",
        "print(f'_________________________________________________\\n')\n",
        "print(f'Training AUC: {auc_train_tree}')\n",
        "print(f'Test AUC: {auc_test_tree}')\n",
        "print(f'Training Accuracy: {acc_train_tree}')\n",
        "print(f'Test Accuracy: {acc_test_tree}')\n",
        "print(f'_________________________________________________\\n')"
      ],
      "metadata": {
        "colab": {
          "base_uri": "https://localhost:8080/"
        },
        "id": "eaes1ikdSju2",
        "outputId": "92ac0841-20a0-4dd3-9446-a621588e9c80"
      },
      "execution_count": null,
      "outputs": [
        {
          "output_type": "stream",
          "name": "stdout",
          "text": [
            "              Metrics Tree                \n",
            "_________________________________________________\n",
            "\n",
            "Training AUC: 1.0\n",
            "Test AUC: 0.9704505264536734\n",
            "Training Accuracy: 1.0\n",
            "Test Accuracy: 0.9704194260485651\n",
            "_________________________________________________\n",
            "\n"
          ]
        }
      ]
    },
    {
      "cell_type": "markdown",
      "source": [
        "### **Random Forest**"
      ],
      "metadata": {
        "id": "D05KkjxfSpx9"
      }
    },
    {
      "cell_type": "code",
      "source": [
        "from sklearn.ensemble import RandomForestClassifier\n",
        "rf = RandomForestClassifier(n_estimators=200)"
      ],
      "metadata": {
        "id": "K_htIp3hSuQV"
      },
      "execution_count": null,
      "outputs": []
    },
    {
      "cell_type": "code",
      "source": [
        "## .fit method here on the training data\n",
        "rf.fit(X_train, y_train)\n",
        "\n",
        "## .predict to check how we do on the training and testing data\n",
        "yhat_rf_train = rf.predict(X_train)\n",
        "yhat_rf_test = rf.predict(X_test)\n",
        "\n",
        "## Performance Metrics\n",
        "from sklearn.metrics import accuracy_score, roc_auc_score\n",
        "\n",
        "auc_train_rf = roc_auc_score(y_train, yhat_rf_train)\n",
        "auc_test_rf = roc_auc_score(y_test, yhat_rf_test)\n",
        "acc_train_rf = accuracy_score(y_train, yhat_rf_train)\n",
        "acc_test_rf = accuracy_score(y_test, yhat_rf_test)\n",
        "\n",
        "print(f'              Metrics Rforest                ')\n",
        "print(f'_________________________________________________\\n')\n",
        "print(f'Training AUC: {auc_train_rf}')\n",
        "print(f'Test AUC: {auc_test_rf}')\n",
        "print(f'Training Accuracy: {acc_train_rf}')\n",
        "print(f'Test Accuracy: {acc_test_rf}')\n",
        "print(f'_________________________________________________\\n')"
      ],
      "metadata": {
        "colab": {
          "base_uri": "https://localhost:8080/"
        },
        "id": "oh2X3qQNSuBt",
        "outputId": "60a94a1a-7c3b-4846-ad1c-15ddb35bc910"
      },
      "execution_count": null,
      "outputs": [
        {
          "output_type": "stream",
          "name": "stdout",
          "text": [
            "              Metrics Rforest                \n",
            "_________________________________________________\n",
            "\n",
            "Training AUC: 1.0\n",
            "Test AUC: 0.9850242954627678\n",
            "Training Accuracy: 1.0\n",
            "Test Accuracy: 0.9849889624724062\n",
            "_________________________________________________\n",
            "\n"
          ]
        }
      ]
    },
    {
      "cell_type": "markdown",
      "source": [
        "### **AdaBoost**"
      ],
      "metadata": {
        "id": "WLeqNZ3DTCYf"
      }
    },
    {
      "cell_type": "code",
      "source": [
        "from sklearn.ensemble import AdaBoostClassifier\n",
        "from sklearn.tree import DecisionTreeClassifier \n",
        "ada = AdaBoostClassifier(base_estimator=DecisionTreeClassifier(max_depth=2), n_estimators=200)"
      ],
      "metadata": {
        "id": "dXQmpWjqTGfO"
      },
      "execution_count": null,
      "outputs": []
    },
    {
      "cell_type": "code",
      "source": [
        "## .fit method here on the training data\n",
        "ada.fit(X_train, y_train)\n",
        "\n",
        "## .predict to check how we do on the training and testing data\n",
        "yhat_ada_train = ada.predict(X_train)\n",
        "yhat_ada_test = ada.predict(X_test)\n",
        "\n",
        "## Performance Metrics\n",
        "from sklearn.metrics import accuracy_score, roc_auc_score\n",
        "\n",
        "auc_train_ada = roc_auc_score(y_train, yhat_ada_train)\n",
        "auc_test_ada = roc_auc_score(y_test, yhat_ada_test)\n",
        "acc_train_ada = accuracy_score(y_train, yhat_ada_train)\n",
        "acc_test_ada = accuracy_score(y_test, yhat_ada_test)\n",
        "\n",
        "print(f'              Metrics Ada Boost             ')\n",
        "print(f'_________________________________________________\\n')\n",
        "print(f'Training AUC: {auc_train_ada}')\n",
        "print(f'Test AUC: {auc_test_ada}')\n",
        "print(f'Training Accuracy: {acc_train_ada}')\n",
        "print(f'Test Accuracy: {acc_test_ada}')\n",
        "print(f'_________________________________________________\\n')"
      ],
      "metadata": {
        "colab": {
          "base_uri": "https://localhost:8080/"
        },
        "id": "0s1r3I3eTGVW",
        "outputId": "f548b856-6981-48f6-e77b-a3bf72e48849"
      },
      "execution_count": null,
      "outputs": [
        {
          "output_type": "stream",
          "name": "stdout",
          "text": [
            "              Metrics Ada Boost             \n",
            "_________________________________________________\n",
            "\n",
            "Training AUC: 1.0\n",
            "Test AUC: 0.9819323937424369\n",
            "Training Accuracy: 1.0\n",
            "Test Accuracy: 0.9818984547461369\n",
            "_________________________________________________\n",
            "\n"
          ]
        }
      ]
    },
    {
      "cell_type": "markdown",
      "source": [
        "### **XGBoost**"
      ],
      "metadata": {
        "id": "ElyCPYwkTUIY"
      }
    },
    {
      "cell_type": "code",
      "source": [
        "from xgboost import XGBClassifier\n",
        "xgb = XGBClassifier()"
      ],
      "metadata": {
        "id": "dd3m6TESTaJ4"
      },
      "execution_count": null,
      "outputs": []
    },
    {
      "cell_type": "code",
      "source": [
        "## .fit method here on the training data\n",
        "xgb.fit(X_train, y_train)\n",
        "\n",
        "## .predict to check how we do on the training and testing data\n",
        "yhat_xgb_train = xgb.predict(X_train)\n",
        "yhat_xgb_test = xgb.predict(X_test)\n",
        "\n",
        "## Performance Metrics\n",
        "from sklearn.metrics import accuracy_score, roc_auc_score\n",
        "\n",
        "auc_train_xgb = roc_auc_score(y_train, yhat_xgb_train)\n",
        "auc_test_xgb = roc_auc_score(y_test, yhat_xgb_test)\n",
        "acc_train_xgb = accuracy_score(y_train, yhat_xgb_train)\n",
        "acc_test_xgb = accuracy_score(y_test, yhat_xgb_test)\n",
        "\n",
        "print(f'              Metrics Ada Boost             ')\n",
        "print(f'_________________________________________________\\n')\n",
        "print(f'Training AUC: {auc_train_xgb}')\n",
        "print(f'Test AUC: {auc_test_xgb}')\n",
        "print(f'Training Accuracy: {acc_train_xgb}')\n",
        "print(f'Test Accuracy: {acc_test_xgb}')\n",
        "print(f'_________________________________________________\\n')"
      ],
      "metadata": {
        "colab": {
          "base_uri": "https://localhost:8080/"
        },
        "id": "YI6QKZEnTaE5",
        "outputId": "2e02b44b-164c-447f-dfc2-69de9e508e54"
      },
      "execution_count": null,
      "outputs": [
        {
          "output_type": "stream",
          "name": "stdout",
          "text": [
            "              Metrics Ada Boost             \n",
            "_________________________________________________\n",
            "\n",
            "Training AUC: 0.9732703533443898\n",
            "Test AUC: 0.9620987662021732\n",
            "Training Accuracy: 0.97328623468374\n",
            "Test Accuracy: 0.9620309050772627\n",
            "_________________________________________________\n",
            "\n"
          ]
        }
      ]
    },
    {
      "cell_type": "markdown",
      "source": [
        "### **Multilayer-Perceptron Neural Network**"
      ],
      "metadata": {
        "id": "Lfi3yrToTabp"
      }
    },
    {
      "cell_type": "code",
      "source": [
        "from sklearn.neural_network import MLPClassifier\n",
        "nn = MLPClassifier(activation = 'logistic')"
      ],
      "metadata": {
        "id": "Ucql6tP9TeMB"
      },
      "execution_count": null,
      "outputs": []
    },
    {
      "cell_type": "code",
      "source": [
        "## .fit method here on the training data\n",
        "nn.fit(X_train, y_train)\n",
        "\n",
        "## .predict to check how we do on the training and testing data\n",
        "yhat_nn_train = nn.predict(X_train)\n",
        "yhat_nn_test = nn.predict(X_test)\n",
        "\n",
        "## Performance Metrics\n",
        "from sklearn.metrics import accuracy_score, roc_auc_score\n",
        "\n",
        "auc_train_nn = roc_auc_score(y_train, yhat_nn_train)\n",
        "auc_test_nn = roc_auc_score(y_test, yhat_nn_test)\n",
        "acc_train_nn = accuracy_score(y_train, yhat_nn_train)\n",
        "acc_test_nn = accuracy_score(y_test, yhat_nn_test)\n",
        "\n",
        "print(f'              Metrics Neural Network             ')\n",
        "print(f'_________________________________________________\\n')\n",
        "print(f'Training AUC: {auc_train_nn}')\n",
        "print(f'Test AUC: {auc_test_nn}')\n",
        "print(f'Training Accuracy: {acc_train_nn}')\n",
        "print(f'Test Accuracy: {acc_test_nn}')\n",
        "print(f'_________________________________________________\\n')"
      ],
      "metadata": {
        "colab": {
          "base_uri": "https://localhost:8080/"
        },
        "id": "db8y3PeHTeI4",
        "outputId": "ff3023e3-35c0-4620-d4b0-21593c61f6f1"
      },
      "execution_count": null,
      "outputs": [
        {
          "output_type": "stream",
          "name": "stdout",
          "text": [
            "              Metrics Neural Network             \n",
            "_________________________________________________\n",
            "\n",
            "Training AUC: 0.9856412624501875\n",
            "Test AUC: 0.9792997355256428\n",
            "Training Accuracy: 0.985649630202009\n",
            "Test Accuracy: 0.9792494481236204\n",
            "_________________________________________________\n",
            "\n"
          ]
        },
        {
          "output_type": "stream",
          "name": "stderr",
          "text": [
            "/usr/local/lib/python3.7/dist-packages/sklearn/neural_network/_multilayer_perceptron.py:696: ConvergenceWarning: Stochastic Optimizer: Maximum iterations (200) reached and the optimization hasn't converged yet.\n",
            "  ConvergenceWarning,\n"
          ]
        }
      ]
    },
    {
      "cell_type": "markdown",
      "source": [
        "### **Visualize Model Comparison**"
      ],
      "metadata": {
        "id": "lWyr_QNmVF66"
      }
    },
    {
      "cell_type": "code",
      "source": [
        "pd.DataFrame([[auc_train_logistic, acc_train_logistic, auc_test_logistic, acc_test_logistic],\n",
        "  [auc_train_tree, acc_train_tree, auc_test_tree, acc_test_tree],\n",
        "  [auc_train_rf, acc_train_rf, auc_test_rf, acc_test_rf],\n",
        "  [auc_train_ada, acc_train_ada, auc_test_ada, acc_test_ada],\n",
        "  [auc_train_xgb, acc_train_xgb, auc_test_xgb, acc_test_xgb],\n",
        "  [auc_train_nn, acc_train_nn, auc_test_nn, acc_test_nn]], \n",
        "  index = ['Logistic Regression', 'Decision Tree', 'Random Forest', 'AdaBoost', 'XGBoost', 'MLP Neural Network'], \n",
        "  columns = ['AUC Train', 'Accuracy Train', 'AUC Test', 'Accuracy Test'])"
      ],
      "metadata": {
        "colab": {
          "base_uri": "https://localhost:8080/",
          "height": 237
        },
        "id": "3Nvw7R7mVJ5G",
        "outputId": "207829e2-a8ea-4e63-f5f1-bec4fafbf5f9"
      },
      "execution_count": null,
      "outputs": [
        {
          "output_type": "execute_result",
          "data": {
            "text/plain": [
              "                     AUC Train  Accuracy Train  AUC Test  Accuracy Test\n",
              "Logistic Regression   0.890180        0.890164  0.885162       0.885210\n",
              "Decision Tree         1.000000        1.000000  0.970451       0.970419\n",
              "Random Forest         1.000000        1.000000  0.985024       0.984989\n",
              "AdaBoost              1.000000        1.000000  0.981932       0.981898\n",
              "XGBoost               0.973270        0.973286  0.962099       0.962031\n",
              "MLP Neural Network    0.985641        0.985650  0.979300       0.979249"
            ],
            "text/html": [
              "\n",
              "  <div id=\"df-abd34cf0-80e3-4665-b881-a49471aeca45\">\n",
              "    <div class=\"colab-df-container\">\n",
              "      <div>\n",
              "<style scoped>\n",
              "    .dataframe tbody tr th:only-of-type {\n",
              "        vertical-align: middle;\n",
              "    }\n",
              "\n",
              "    .dataframe tbody tr th {\n",
              "        vertical-align: top;\n",
              "    }\n",
              "\n",
              "    .dataframe thead th {\n",
              "        text-align: right;\n",
              "    }\n",
              "</style>\n",
              "<table border=\"1\" class=\"dataframe\">\n",
              "  <thead>\n",
              "    <tr style=\"text-align: right;\">\n",
              "      <th></th>\n",
              "      <th>AUC Train</th>\n",
              "      <th>Accuracy Train</th>\n",
              "      <th>AUC Test</th>\n",
              "      <th>Accuracy Test</th>\n",
              "    </tr>\n",
              "  </thead>\n",
              "  <tbody>\n",
              "    <tr>\n",
              "      <th>Logistic Regression</th>\n",
              "      <td>0.890180</td>\n",
              "      <td>0.890164</td>\n",
              "      <td>0.885162</td>\n",
              "      <td>0.885210</td>\n",
              "    </tr>\n",
              "    <tr>\n",
              "      <th>Decision Tree</th>\n",
              "      <td>1.000000</td>\n",
              "      <td>1.000000</td>\n",
              "      <td>0.970451</td>\n",
              "      <td>0.970419</td>\n",
              "    </tr>\n",
              "    <tr>\n",
              "      <th>Random Forest</th>\n",
              "      <td>1.000000</td>\n",
              "      <td>1.000000</td>\n",
              "      <td>0.985024</td>\n",
              "      <td>0.984989</td>\n",
              "    </tr>\n",
              "    <tr>\n",
              "      <th>AdaBoost</th>\n",
              "      <td>1.000000</td>\n",
              "      <td>1.000000</td>\n",
              "      <td>0.981932</td>\n",
              "      <td>0.981898</td>\n",
              "    </tr>\n",
              "    <tr>\n",
              "      <th>XGBoost</th>\n",
              "      <td>0.973270</td>\n",
              "      <td>0.973286</td>\n",
              "      <td>0.962099</td>\n",
              "      <td>0.962031</td>\n",
              "    </tr>\n",
              "    <tr>\n",
              "      <th>MLP Neural Network</th>\n",
              "      <td>0.985641</td>\n",
              "      <td>0.985650</td>\n",
              "      <td>0.979300</td>\n",
              "      <td>0.979249</td>\n",
              "    </tr>\n",
              "  </tbody>\n",
              "</table>\n",
              "</div>\n",
              "      <button class=\"colab-df-convert\" onclick=\"convertToInteractive('df-abd34cf0-80e3-4665-b881-a49471aeca45')\"\n",
              "              title=\"Convert this dataframe to an interactive table.\"\n",
              "              style=\"display:none;\">\n",
              "        \n",
              "  <svg xmlns=\"http://www.w3.org/2000/svg\" height=\"24px\"viewBox=\"0 0 24 24\"\n",
              "       width=\"24px\">\n",
              "    <path d=\"M0 0h24v24H0V0z\" fill=\"none\"/>\n",
              "    <path d=\"M18.56 5.44l.94 2.06.94-2.06 2.06-.94-2.06-.94-.94-2.06-.94 2.06-2.06.94zm-11 1L8.5 8.5l.94-2.06 2.06-.94-2.06-.94L8.5 2.5l-.94 2.06-2.06.94zm10 10l.94 2.06.94-2.06 2.06-.94-2.06-.94-.94-2.06-.94 2.06-2.06.94z\"/><path d=\"M17.41 7.96l-1.37-1.37c-.4-.4-.92-.59-1.43-.59-.52 0-1.04.2-1.43.59L10.3 9.45l-7.72 7.72c-.78.78-.78 2.05 0 2.83L4 21.41c.39.39.9.59 1.41.59.51 0 1.02-.2 1.41-.59l7.78-7.78 2.81-2.81c.8-.78.8-2.07 0-2.86zM5.41 20L4 18.59l7.72-7.72 1.47 1.35L5.41 20z\"/>\n",
              "  </svg>\n",
              "      </button>\n",
              "      \n",
              "  <style>\n",
              "    .colab-df-container {\n",
              "      display:flex;\n",
              "      flex-wrap:wrap;\n",
              "      gap: 12px;\n",
              "    }\n",
              "\n",
              "    .colab-df-convert {\n",
              "      background-color: #E8F0FE;\n",
              "      border: none;\n",
              "      border-radius: 50%;\n",
              "      cursor: pointer;\n",
              "      display: none;\n",
              "      fill: #1967D2;\n",
              "      height: 32px;\n",
              "      padding: 0 0 0 0;\n",
              "      width: 32px;\n",
              "    }\n",
              "\n",
              "    .colab-df-convert:hover {\n",
              "      background-color: #E2EBFA;\n",
              "      box-shadow: 0px 1px 2px rgba(60, 64, 67, 0.3), 0px 1px 3px 1px rgba(60, 64, 67, 0.15);\n",
              "      fill: #174EA6;\n",
              "    }\n",
              "\n",
              "    [theme=dark] .colab-df-convert {\n",
              "      background-color: #3B4455;\n",
              "      fill: #D2E3FC;\n",
              "    }\n",
              "\n",
              "    [theme=dark] .colab-df-convert:hover {\n",
              "      background-color: #434B5C;\n",
              "      box-shadow: 0px 1px 3px 1px rgba(0, 0, 0, 0.15);\n",
              "      filter: drop-shadow(0px 1px 2px rgba(0, 0, 0, 0.3));\n",
              "      fill: #FFFFFF;\n",
              "    }\n",
              "  </style>\n",
              "\n",
              "      <script>\n",
              "        const buttonEl =\n",
              "          document.querySelector('#df-abd34cf0-80e3-4665-b881-a49471aeca45 button.colab-df-convert');\n",
              "        buttonEl.style.display =\n",
              "          google.colab.kernel.accessAllowed ? 'block' : 'none';\n",
              "\n",
              "        async function convertToInteractive(key) {\n",
              "          const element = document.querySelector('#df-abd34cf0-80e3-4665-b881-a49471aeca45');\n",
              "          const dataTable =\n",
              "            await google.colab.kernel.invokeFunction('convertToInteractive',\n",
              "                                                     [key], {});\n",
              "          if (!dataTable) return;\n",
              "\n",
              "          const docLinkHtml = 'Like what you see? Visit the ' +\n",
              "            '<a target=\"_blank\" href=https://colab.research.google.com/notebooks/data_table.ipynb>data table notebook</a>'\n",
              "            + ' to learn more about interactive tables.';\n",
              "          element.innerHTML = '';\n",
              "          dataTable['output_type'] = 'display_data';\n",
              "          await google.colab.output.renderOutput(dataTable, element);\n",
              "          const docLink = document.createElement('div');\n",
              "          docLink.innerHTML = docLinkHtml;\n",
              "          element.appendChild(docLink);\n",
              "        }\n",
              "      </script>\n",
              "    </div>\n",
              "  </div>\n",
              "  "
            ]
          },
          "metadata": {},
          "execution_count": 23
        }
      ]
    },
    {
      "cell_type": "markdown",
      "source": [
        "# **4) Apply best model(s) to the test data set**"
      ],
      "metadata": {
        "id": "muTIAj5R-5XO"
      }
    },
    {
      "cell_type": "code",
      "source": [
        "# Load the test data set\n",
        "test = pd.read_csv('/content/drive/MyDrive/Academics/MSBA/ISA 630/Final Project/test.csv')\n",
        "test.head()"
      ],
      "metadata": {
        "id": "rOq2_q9k-_Xm",
        "colab": {
          "base_uri": "https://localhost:8080/",
          "height": 317
        },
        "outputId": "c0d1cad1-0bc2-4e05-eab3-336b571496c7"
      },
      "execution_count": null,
      "outputs": [
        {
          "output_type": "execute_result",
          "data": {
            "text/plain": [
              "   Unnamed: 0   playerID  LOS  recent_year        G          AB      R  \\\n",
              "0          13  abreujo02    8         2021  139.125  544.125000  76.50   \n",
              "1          18  acunaro01    4         2021   98.750  379.000000  80.75   \n",
              "2          20  adamecr01    5         2019   35.200   65.600000   6.40   \n",
              "3          21  adamewi01    5         2021   86.200  300.200000  43.60   \n",
              "4          28  adamsla01    3         2018   39.000   45.666667  10.00   \n",
              "\n",
              "        H        X2B       X3B  ...        RBI         SB     CS          SO  \\\n",
              "0  157.75  32.875000  2.000000  ...  98.500000   1.375000  0.625  122.250000   \n",
              "1  106.50  19.500000  1.750000  ...  61.500000  19.500000  5.250  114.000000   \n",
              "2   14.00   1.800000  0.800000  ...   4.400000   0.400000  0.800   15.400000   \n",
              "3   78.60  15.800000  0.600000  ...  36.400000   3.400000  2.400   95.600000   \n",
              "4   12.00   1.666667  0.333333  ...   8.666667   3.666667  0.000   15.666667   \n",
              "\n",
              "          BB   IBB        HBP        SH        SF       GIDP  \n",
              "0  40.500000  6.75  13.125000  0.000000  5.625000  18.500000  \n",
              "1  52.000000  2.50   7.000000  0.000000  2.250000   3.750000  \n",
              "2   6.000000  0.20   1.000000  0.800000  0.000000   1.200000  \n",
              "3  30.800000  1.00   0.800000  0.800000  0.800000   5.600000  \n",
              "4   4.666667  0.00   0.333333  0.333333  0.333333   1.333333  \n",
              "\n",
              "[5 rows x 21 columns]"
            ],
            "text/html": [
              "\n",
              "  <div id=\"df-cc3b4454-3a46-4a87-adf9-ea0ffcd961ac\">\n",
              "    <div class=\"colab-df-container\">\n",
              "      <div>\n",
              "<style scoped>\n",
              "    .dataframe tbody tr th:only-of-type {\n",
              "        vertical-align: middle;\n",
              "    }\n",
              "\n",
              "    .dataframe tbody tr th {\n",
              "        vertical-align: top;\n",
              "    }\n",
              "\n",
              "    .dataframe thead th {\n",
              "        text-align: right;\n",
              "    }\n",
              "</style>\n",
              "<table border=\"1\" class=\"dataframe\">\n",
              "  <thead>\n",
              "    <tr style=\"text-align: right;\">\n",
              "      <th></th>\n",
              "      <th>Unnamed: 0</th>\n",
              "      <th>playerID</th>\n",
              "      <th>LOS</th>\n",
              "      <th>recent_year</th>\n",
              "      <th>G</th>\n",
              "      <th>AB</th>\n",
              "      <th>R</th>\n",
              "      <th>H</th>\n",
              "      <th>X2B</th>\n",
              "      <th>X3B</th>\n",
              "      <th>...</th>\n",
              "      <th>RBI</th>\n",
              "      <th>SB</th>\n",
              "      <th>CS</th>\n",
              "      <th>SO</th>\n",
              "      <th>BB</th>\n",
              "      <th>IBB</th>\n",
              "      <th>HBP</th>\n",
              "      <th>SH</th>\n",
              "      <th>SF</th>\n",
              "      <th>GIDP</th>\n",
              "    </tr>\n",
              "  </thead>\n",
              "  <tbody>\n",
              "    <tr>\n",
              "      <th>0</th>\n",
              "      <td>13</td>\n",
              "      <td>abreujo02</td>\n",
              "      <td>8</td>\n",
              "      <td>2021</td>\n",
              "      <td>139.125</td>\n",
              "      <td>544.125000</td>\n",
              "      <td>76.50</td>\n",
              "      <td>157.75</td>\n",
              "      <td>32.875000</td>\n",
              "      <td>2.000000</td>\n",
              "      <td>...</td>\n",
              "      <td>98.500000</td>\n",
              "      <td>1.375000</td>\n",
              "      <td>0.625</td>\n",
              "      <td>122.250000</td>\n",
              "      <td>40.500000</td>\n",
              "      <td>6.75</td>\n",
              "      <td>13.125000</td>\n",
              "      <td>0.000000</td>\n",
              "      <td>5.625000</td>\n",
              "      <td>18.500000</td>\n",
              "    </tr>\n",
              "    <tr>\n",
              "      <th>1</th>\n",
              "      <td>18</td>\n",
              "      <td>acunaro01</td>\n",
              "      <td>4</td>\n",
              "      <td>2021</td>\n",
              "      <td>98.750</td>\n",
              "      <td>379.000000</td>\n",
              "      <td>80.75</td>\n",
              "      <td>106.50</td>\n",
              "      <td>19.500000</td>\n",
              "      <td>1.750000</td>\n",
              "      <td>...</td>\n",
              "      <td>61.500000</td>\n",
              "      <td>19.500000</td>\n",
              "      <td>5.250</td>\n",
              "      <td>114.000000</td>\n",
              "      <td>52.000000</td>\n",
              "      <td>2.50</td>\n",
              "      <td>7.000000</td>\n",
              "      <td>0.000000</td>\n",
              "      <td>2.250000</td>\n",
              "      <td>3.750000</td>\n",
              "    </tr>\n",
              "    <tr>\n",
              "      <th>2</th>\n",
              "      <td>20</td>\n",
              "      <td>adamecr01</td>\n",
              "      <td>5</td>\n",
              "      <td>2019</td>\n",
              "      <td>35.200</td>\n",
              "      <td>65.600000</td>\n",
              "      <td>6.40</td>\n",
              "      <td>14.00</td>\n",
              "      <td>1.800000</td>\n",
              "      <td>0.800000</td>\n",
              "      <td>...</td>\n",
              "      <td>4.400000</td>\n",
              "      <td>0.400000</td>\n",
              "      <td>0.800</td>\n",
              "      <td>15.400000</td>\n",
              "      <td>6.000000</td>\n",
              "      <td>0.20</td>\n",
              "      <td>1.000000</td>\n",
              "      <td>0.800000</td>\n",
              "      <td>0.000000</td>\n",
              "      <td>1.200000</td>\n",
              "    </tr>\n",
              "    <tr>\n",
              "      <th>3</th>\n",
              "      <td>21</td>\n",
              "      <td>adamewi01</td>\n",
              "      <td>5</td>\n",
              "      <td>2021</td>\n",
              "      <td>86.200</td>\n",
              "      <td>300.200000</td>\n",
              "      <td>43.60</td>\n",
              "      <td>78.60</td>\n",
              "      <td>15.800000</td>\n",
              "      <td>0.600000</td>\n",
              "      <td>...</td>\n",
              "      <td>36.400000</td>\n",
              "      <td>3.400000</td>\n",
              "      <td>2.400</td>\n",
              "      <td>95.600000</td>\n",
              "      <td>30.800000</td>\n",
              "      <td>1.00</td>\n",
              "      <td>0.800000</td>\n",
              "      <td>0.800000</td>\n",
              "      <td>0.800000</td>\n",
              "      <td>5.600000</td>\n",
              "    </tr>\n",
              "    <tr>\n",
              "      <th>4</th>\n",
              "      <td>28</td>\n",
              "      <td>adamsla01</td>\n",
              "      <td>3</td>\n",
              "      <td>2018</td>\n",
              "      <td>39.000</td>\n",
              "      <td>45.666667</td>\n",
              "      <td>10.00</td>\n",
              "      <td>12.00</td>\n",
              "      <td>1.666667</td>\n",
              "      <td>0.333333</td>\n",
              "      <td>...</td>\n",
              "      <td>8.666667</td>\n",
              "      <td>3.666667</td>\n",
              "      <td>0.000</td>\n",
              "      <td>15.666667</td>\n",
              "      <td>4.666667</td>\n",
              "      <td>0.00</td>\n",
              "      <td>0.333333</td>\n",
              "      <td>0.333333</td>\n",
              "      <td>0.333333</td>\n",
              "      <td>1.333333</td>\n",
              "    </tr>\n",
              "  </tbody>\n",
              "</table>\n",
              "<p>5 rows × 21 columns</p>\n",
              "</div>\n",
              "      <button class=\"colab-df-convert\" onclick=\"convertToInteractive('df-cc3b4454-3a46-4a87-adf9-ea0ffcd961ac')\"\n",
              "              title=\"Convert this dataframe to an interactive table.\"\n",
              "              style=\"display:none;\">\n",
              "        \n",
              "  <svg xmlns=\"http://www.w3.org/2000/svg\" height=\"24px\"viewBox=\"0 0 24 24\"\n",
              "       width=\"24px\">\n",
              "    <path d=\"M0 0h24v24H0V0z\" fill=\"none\"/>\n",
              "    <path d=\"M18.56 5.44l.94 2.06.94-2.06 2.06-.94-2.06-.94-.94-2.06-.94 2.06-2.06.94zm-11 1L8.5 8.5l.94-2.06 2.06-.94-2.06-.94L8.5 2.5l-.94 2.06-2.06.94zm10 10l.94 2.06.94-2.06 2.06-.94-2.06-.94-.94-2.06-.94 2.06-2.06.94z\"/><path d=\"M17.41 7.96l-1.37-1.37c-.4-.4-.92-.59-1.43-.59-.52 0-1.04.2-1.43.59L10.3 9.45l-7.72 7.72c-.78.78-.78 2.05 0 2.83L4 21.41c.39.39.9.59 1.41.59.51 0 1.02-.2 1.41-.59l7.78-7.78 2.81-2.81c.8-.78.8-2.07 0-2.86zM5.41 20L4 18.59l7.72-7.72 1.47 1.35L5.41 20z\"/>\n",
              "  </svg>\n",
              "      </button>\n",
              "      \n",
              "  <style>\n",
              "    .colab-df-container {\n",
              "      display:flex;\n",
              "      flex-wrap:wrap;\n",
              "      gap: 12px;\n",
              "    }\n",
              "\n",
              "    .colab-df-convert {\n",
              "      background-color: #E8F0FE;\n",
              "      border: none;\n",
              "      border-radius: 50%;\n",
              "      cursor: pointer;\n",
              "      display: none;\n",
              "      fill: #1967D2;\n",
              "      height: 32px;\n",
              "      padding: 0 0 0 0;\n",
              "      width: 32px;\n",
              "    }\n",
              "\n",
              "    .colab-df-convert:hover {\n",
              "      background-color: #E2EBFA;\n",
              "      box-shadow: 0px 1px 2px rgba(60, 64, 67, 0.3), 0px 1px 3px 1px rgba(60, 64, 67, 0.15);\n",
              "      fill: #174EA6;\n",
              "    }\n",
              "\n",
              "    [theme=dark] .colab-df-convert {\n",
              "      background-color: #3B4455;\n",
              "      fill: #D2E3FC;\n",
              "    }\n",
              "\n",
              "    [theme=dark] .colab-df-convert:hover {\n",
              "      background-color: #434B5C;\n",
              "      box-shadow: 0px 1px 3px 1px rgba(0, 0, 0, 0.15);\n",
              "      filter: drop-shadow(0px 1px 2px rgba(0, 0, 0, 0.3));\n",
              "      fill: #FFFFFF;\n",
              "    }\n",
              "  </style>\n",
              "\n",
              "      <script>\n",
              "        const buttonEl =\n",
              "          document.querySelector('#df-cc3b4454-3a46-4a87-adf9-ea0ffcd961ac button.colab-df-convert');\n",
              "        buttonEl.style.display =\n",
              "          google.colab.kernel.accessAllowed ? 'block' : 'none';\n",
              "\n",
              "        async function convertToInteractive(key) {\n",
              "          const element = document.querySelector('#df-cc3b4454-3a46-4a87-adf9-ea0ffcd961ac');\n",
              "          const dataTable =\n",
              "            await google.colab.kernel.invokeFunction('convertToInteractive',\n",
              "                                                     [key], {});\n",
              "          if (!dataTable) return;\n",
              "\n",
              "          const docLinkHtml = 'Like what you see? Visit the ' +\n",
              "            '<a target=\"_blank\" href=https://colab.research.google.com/notebooks/data_table.ipynb>data table notebook</a>'\n",
              "            + ' to learn more about interactive tables.';\n",
              "          element.innerHTML = '';\n",
              "          dataTable['output_type'] = 'display_data';\n",
              "          await google.colab.output.renderOutput(dataTable, element);\n",
              "          const docLink = document.createElement('div');\n",
              "          docLink.innerHTML = docLinkHtml;\n",
              "          element.appendChild(docLink);\n",
              "        }\n",
              "      </script>\n",
              "    </div>\n",
              "  </div>\n",
              "  "
            ]
          },
          "metadata": {},
          "execution_count": 24
        }
      ]
    },
    {
      "cell_type": "code",
      "source": [
        "# Create the X vector\n",
        "X2 = test.drop(['Unnamed: 0', 'playerID', 'recent_year', 'LOS'], axis = 1)\n",
        "X2 = np.array(X2)"
      ],
      "metadata": {
        "id": "5yjdhGPfXXI0"
      },
      "execution_count": null,
      "outputs": []
    },
    {
      "cell_type": "code",
      "source": [
        "# Generate predictions on the test data set\n",
        "# Using AdaBoost\n",
        "preds = rf.predict(X2)"
      ],
      "metadata": {
        "id": "iLVXKtlPXyA8"
      },
      "execution_count": null,
      "outputs": []
    },
    {
      "cell_type": "code",
      "source": [
        "len(preds)"
      ],
      "metadata": {
        "id": "cEqUWceqHuGV",
        "outputId": "6d02815c-848f-474d-bd4c-74474416f1af",
        "colab": {
          "base_uri": "https://localhost:8080/"
        }
      },
      "execution_count": null,
      "outputs": [
        {
          "output_type": "execute_result",
          "data": {
            "text/plain": [
              "864"
            ]
          },
          "metadata": {},
          "execution_count": 38
        }
      ]
    },
    {
      "cell_type": "code",
      "source": [
        "# Display the predictions\n",
        "preds"
      ],
      "metadata": {
        "colab": {
          "base_uri": "https://localhost:8080/"
        },
        "id": "xX75Xn0IX4SN",
        "outputId": "a3e8b0e5-e0d5-447d-a5f3-012dfb975ec9"
      },
      "execution_count": null,
      "outputs": [
        {
          "output_type": "execute_result",
          "data": {
            "text/plain": [
              "array([0, 0, 0, 0, 0, 0, 0, 0, 0, 0, 0, 0, 0, 0, 0, 0, 0, 0, 0, 0, 0, 0,\n",
              "       0, 0, 0, 1, 0, 0, 0, 0, 0, 0, 1, 0, 0, 0, 0, 0, 0, 1, 0, 0, 0, 0,\n",
              "       0, 0, 0, 0, 0, 0, 0, 0, 0, 0, 0, 0, 0, 0, 0, 0, 0, 0, 0, 0, 0, 0,\n",
              "       0, 0, 0, 1, 1, 0, 0, 0, 0, 0, 1, 0, 0, 0, 0, 0, 0, 0, 0, 0, 0, 0,\n",
              "       0, 0, 0, 0, 0, 0, 0, 0, 1, 0, 0, 0, 0, 0, 0, 0, 0, 0, 0, 0, 0, 0,\n",
              "       0, 1, 1, 0, 0, 0, 0, 0, 0, 0, 0, 1, 0, 0, 0, 0, 0, 0, 0, 0, 0, 0,\n",
              "       0, 0, 0, 0, 0, 0, 0, 0, 0, 0, 0, 0, 0, 0, 0, 0, 0, 0, 0, 0, 0, 0,\n",
              "       0, 0, 0, 0, 0, 0, 0, 0, 0, 0, 0, 0, 0, 0, 0, 0, 0, 0, 0, 0, 0, 0,\n",
              "       0, 0, 0, 0, 0, 0, 0, 0, 0, 0, 0, 0, 0, 0, 0, 0, 0, 0, 0, 0, 0, 0,\n",
              "       0, 0, 0, 0, 0, 0, 0, 0, 0, 0, 0, 0, 0, 0, 0, 0, 0, 0, 0, 0, 0, 0,\n",
              "       0, 0, 1, 0, 0, 0, 0, 0, 0, 0, 0, 0, 0, 0, 0, 0, 0, 0, 0, 0, 0, 0,\n",
              "       0, 0, 0, 0, 0, 0, 0, 0, 0, 0, 0, 0, 0, 0, 0, 0, 0, 0, 0, 0, 0, 0,\n",
              "       0, 0, 0, 0, 0, 0, 0, 0, 0, 0, 0, 0, 0, 0, 0, 0, 0, 0, 0, 0, 0, 0,\n",
              "       0, 0, 0, 0, 0, 0, 0, 0, 1, 0, 0, 0, 0, 0, 0, 0, 0, 0, 0, 0, 0, 0,\n",
              "       0, 0, 0, 0, 0, 0, 0, 0, 0, 0, 0, 0, 0, 0, 0, 0, 0, 0, 0, 0, 0, 0,\n",
              "       0, 0, 0, 0, 0, 0, 1, 0, 0, 0, 0, 0, 0, 0, 0, 0, 0, 0, 0, 0, 0, 0,\n",
              "       0, 0, 0, 0, 0, 0, 0, 0, 0, 0, 0, 0, 0, 0, 0, 0, 0, 0, 0, 0, 0, 0,\n",
              "       0, 0, 0, 0, 0, 0, 0, 0, 0, 0, 0, 0, 0, 0, 0, 0, 0, 0, 0, 0, 0, 0,\n",
              "       0, 0, 0, 0, 0, 0, 0, 0, 0, 0, 0, 0, 0, 0, 0, 0, 0, 0, 0, 0, 0, 1,\n",
              "       0, 0, 0, 0, 0, 0, 0, 0, 0, 0, 0, 0, 0, 0, 0, 0, 0, 0, 0, 0, 1, 0,\n",
              "       0, 0, 0, 0, 0, 0, 0, 0, 0, 0, 0, 0, 0, 0, 0, 0, 0, 0, 0, 0, 0, 0,\n",
              "       0, 0, 0, 0, 0, 0, 0, 0, 0, 0, 0, 0, 0, 0, 0, 0, 0, 0, 0, 0, 0, 0,\n",
              "       0, 0, 1, 0, 0, 0, 0, 0, 0, 0, 0, 0, 0, 0, 0, 0, 0, 0, 0, 0, 0, 0,\n",
              "       0, 0, 1, 0, 0, 0, 0, 0, 0, 0, 0, 0, 0, 0, 0, 0, 0, 0, 0, 0, 0, 0,\n",
              "       0, 0, 0, 0, 0, 0, 0, 0, 0, 0, 0, 0, 0, 0, 0, 0, 0, 0, 0, 0, 0, 0,\n",
              "       0, 0, 0, 0, 0, 0, 0, 0, 0, 0, 0, 0, 0, 0, 0, 0, 0, 0, 0, 0, 0, 0,\n",
              "       0, 0, 0, 0, 0, 0, 0, 0, 0, 0, 0, 0, 0, 0, 0, 0, 0, 0, 0, 0, 0, 0,\n",
              "       0, 0, 0, 0, 0, 0, 0, 0, 0, 0, 0, 0, 0, 0, 0, 0, 0, 0, 0, 0, 0, 0,\n",
              "       0, 0, 0, 0, 1, 0, 0, 0, 0, 0, 0, 0, 0, 0, 0, 0, 0, 0, 0, 0, 0, 0,\n",
              "       0, 1, 0, 0, 0, 0, 0, 0, 0, 0, 0, 0, 0, 0, 0, 0, 0, 0, 0, 0, 0, 0,\n",
              "       0, 0, 0, 0, 0, 0, 0, 0, 0, 0, 0, 0, 0, 0, 0, 0, 0, 0, 0, 0, 0, 0,\n",
              "       0, 0, 0, 0, 0, 0, 0, 0, 0, 0, 0, 0, 0, 0, 0, 0, 0, 0, 0, 0, 0, 0,\n",
              "       0, 0, 0, 0, 0, 0, 0, 0, 0, 0, 0, 0, 0, 0, 0, 0, 0, 0, 0, 0, 0, 0,\n",
              "       0, 0, 0, 0, 0, 0, 0, 0, 0, 1, 0, 0, 0, 0, 0, 0, 0, 0, 0, 0, 0, 0,\n",
              "       0, 0, 0, 0, 0, 0, 0, 1, 0, 0, 0, 0, 0, 0, 0, 0, 0, 0, 0, 0, 0, 0,\n",
              "       0, 0, 0, 0, 0, 0, 0, 0, 0, 0, 0, 0, 0, 0, 0, 0, 0, 0, 0, 0, 0, 0,\n",
              "       0, 0, 0, 0, 1, 0, 0, 0, 0, 0, 0, 0, 0, 0, 0, 0, 0, 0, 0, 0, 0, 0,\n",
              "       0, 0, 0, 0, 0, 0, 0, 0, 0, 0, 0, 0, 0, 0, 0, 0, 0, 0, 0, 0, 0, 0,\n",
              "       0, 0, 0, 0, 0, 0, 0, 0, 0, 0, 0, 0, 0, 0, 0, 0, 0, 0, 0, 0, 0, 0,\n",
              "       0, 0, 0, 0, 0, 0])"
            ]
          },
          "metadata": {},
          "execution_count": 35
        }
      ]
    },
    {
      "cell_type": "code",
      "source": [
        "# Append the predictions to the test playerID's\n",
        "submission = pd.DataFrame({'Player' : test['playerID'],\n",
        "                          'HOF' : preds})"
      ],
      "metadata": {
        "id": "NqqXOiY4YOn1"
      },
      "execution_count": null,
      "outputs": []
    },
    {
      "cell_type": "code",
      "source": [
        "# Display the results\n",
        "submission"
      ],
      "metadata": {
        "id": "EePjI87Eaxj8",
        "outputId": "b0fa6c88-d31c-47e0-afcb-f2e01b7b4c45",
        "colab": {
          "base_uri": "https://localhost:8080/",
          "height": 654
        }
      },
      "execution_count": null,
      "outputs": [
        {
          "output_type": "execute_result",
          "data": {
            "text/plain": [
              "        Player  HOF\n",
              "0    abreujo02    0\n",
              "1    acunaro01    0\n",
              "2    adamecr01    0\n",
              "3    adamewi01    0\n",
              "4    adamsla01    0\n",
              "..         ...  ...\n",
              "859  zavalse01    0\n",
              "860  zimmebr01    0\n",
              "861  zimmery01    0\n",
              "862  zobribe01    0\n",
              "863  zuninmi01    0\n",
              "\n",
              "[864 rows x 2 columns]"
            ],
            "text/html": [
              "\n",
              "  <div id=\"df-d5860317-68a1-49a3-804b-8356a5f5f4a8\">\n",
              "    <div class=\"colab-df-container\">\n",
              "      <div>\n",
              "<style scoped>\n",
              "    .dataframe tbody tr th:only-of-type {\n",
              "        vertical-align: middle;\n",
              "    }\n",
              "\n",
              "    .dataframe tbody tr th {\n",
              "        vertical-align: top;\n",
              "    }\n",
              "\n",
              "    .dataframe thead th {\n",
              "        text-align: right;\n",
              "    }\n",
              "</style>\n",
              "<table border=\"1\" class=\"dataframe\">\n",
              "  <thead>\n",
              "    <tr style=\"text-align: right;\">\n",
              "      <th></th>\n",
              "      <th>Player</th>\n",
              "      <th>HOF</th>\n",
              "    </tr>\n",
              "  </thead>\n",
              "  <tbody>\n",
              "    <tr>\n",
              "      <th>0</th>\n",
              "      <td>abreujo02</td>\n",
              "      <td>0</td>\n",
              "    </tr>\n",
              "    <tr>\n",
              "      <th>1</th>\n",
              "      <td>acunaro01</td>\n",
              "      <td>0</td>\n",
              "    </tr>\n",
              "    <tr>\n",
              "      <th>2</th>\n",
              "      <td>adamecr01</td>\n",
              "      <td>0</td>\n",
              "    </tr>\n",
              "    <tr>\n",
              "      <th>3</th>\n",
              "      <td>adamewi01</td>\n",
              "      <td>0</td>\n",
              "    </tr>\n",
              "    <tr>\n",
              "      <th>4</th>\n",
              "      <td>adamsla01</td>\n",
              "      <td>0</td>\n",
              "    </tr>\n",
              "    <tr>\n",
              "      <th>...</th>\n",
              "      <td>...</td>\n",
              "      <td>...</td>\n",
              "    </tr>\n",
              "    <tr>\n",
              "      <th>859</th>\n",
              "      <td>zavalse01</td>\n",
              "      <td>0</td>\n",
              "    </tr>\n",
              "    <tr>\n",
              "      <th>860</th>\n",
              "      <td>zimmebr01</td>\n",
              "      <td>0</td>\n",
              "    </tr>\n",
              "    <tr>\n",
              "      <th>861</th>\n",
              "      <td>zimmery01</td>\n",
              "      <td>0</td>\n",
              "    </tr>\n",
              "    <tr>\n",
              "      <th>862</th>\n",
              "      <td>zobribe01</td>\n",
              "      <td>0</td>\n",
              "    </tr>\n",
              "    <tr>\n",
              "      <th>863</th>\n",
              "      <td>zuninmi01</td>\n",
              "      <td>0</td>\n",
              "    </tr>\n",
              "  </tbody>\n",
              "</table>\n",
              "<p>864 rows × 2 columns</p>\n",
              "</div>\n",
              "      <button class=\"colab-df-convert\" onclick=\"convertToInteractive('df-d5860317-68a1-49a3-804b-8356a5f5f4a8')\"\n",
              "              title=\"Convert this dataframe to an interactive table.\"\n",
              "              style=\"display:none;\">\n",
              "        \n",
              "  <svg xmlns=\"http://www.w3.org/2000/svg\" height=\"24px\"viewBox=\"0 0 24 24\"\n",
              "       width=\"24px\">\n",
              "    <path d=\"M0 0h24v24H0V0z\" fill=\"none\"/>\n",
              "    <path d=\"M18.56 5.44l.94 2.06.94-2.06 2.06-.94-2.06-.94-.94-2.06-.94 2.06-2.06.94zm-11 1L8.5 8.5l.94-2.06 2.06-.94-2.06-.94L8.5 2.5l-.94 2.06-2.06.94zm10 10l.94 2.06.94-2.06 2.06-.94-2.06-.94-.94-2.06-.94 2.06-2.06.94z\"/><path d=\"M17.41 7.96l-1.37-1.37c-.4-.4-.92-.59-1.43-.59-.52 0-1.04.2-1.43.59L10.3 9.45l-7.72 7.72c-.78.78-.78 2.05 0 2.83L4 21.41c.39.39.9.59 1.41.59.51 0 1.02-.2 1.41-.59l7.78-7.78 2.81-2.81c.8-.78.8-2.07 0-2.86zM5.41 20L4 18.59l7.72-7.72 1.47 1.35L5.41 20z\"/>\n",
              "  </svg>\n",
              "      </button>\n",
              "      \n",
              "  <style>\n",
              "    .colab-df-container {\n",
              "      display:flex;\n",
              "      flex-wrap:wrap;\n",
              "      gap: 12px;\n",
              "    }\n",
              "\n",
              "    .colab-df-convert {\n",
              "      background-color: #E8F0FE;\n",
              "      border: none;\n",
              "      border-radius: 50%;\n",
              "      cursor: pointer;\n",
              "      display: none;\n",
              "      fill: #1967D2;\n",
              "      height: 32px;\n",
              "      padding: 0 0 0 0;\n",
              "      width: 32px;\n",
              "    }\n",
              "\n",
              "    .colab-df-convert:hover {\n",
              "      background-color: #E2EBFA;\n",
              "      box-shadow: 0px 1px 2px rgba(60, 64, 67, 0.3), 0px 1px 3px 1px rgba(60, 64, 67, 0.15);\n",
              "      fill: #174EA6;\n",
              "    }\n",
              "\n",
              "    [theme=dark] .colab-df-convert {\n",
              "      background-color: #3B4455;\n",
              "      fill: #D2E3FC;\n",
              "    }\n",
              "\n",
              "    [theme=dark] .colab-df-convert:hover {\n",
              "      background-color: #434B5C;\n",
              "      box-shadow: 0px 1px 3px 1px rgba(0, 0, 0, 0.15);\n",
              "      filter: drop-shadow(0px 1px 2px rgba(0, 0, 0, 0.3));\n",
              "      fill: #FFFFFF;\n",
              "    }\n",
              "  </style>\n",
              "\n",
              "      <script>\n",
              "        const buttonEl =\n",
              "          document.querySelector('#df-d5860317-68a1-49a3-804b-8356a5f5f4a8 button.colab-df-convert');\n",
              "        buttonEl.style.display =\n",
              "          google.colab.kernel.accessAllowed ? 'block' : 'none';\n",
              "\n",
              "        async function convertToInteractive(key) {\n",
              "          const element = document.querySelector('#df-d5860317-68a1-49a3-804b-8356a5f5f4a8');\n",
              "          const dataTable =\n",
              "            await google.colab.kernel.invokeFunction('convertToInteractive',\n",
              "                                                     [key], {});\n",
              "          if (!dataTable) return;\n",
              "\n",
              "          const docLinkHtml = 'Like what you see? Visit the ' +\n",
              "            '<a target=\"_blank\" href=https://colab.research.google.com/notebooks/data_table.ipynb>data table notebook</a>'\n",
              "            + ' to learn more about interactive tables.';\n",
              "          element.innerHTML = '';\n",
              "          dataTable['output_type'] = 'display_data';\n",
              "          await google.colab.output.renderOutput(dataTable, element);\n",
              "          const docLink = document.createElement('div');\n",
              "          docLink.innerHTML = docLinkHtml;\n",
              "          element.appendChild(docLink);\n",
              "        }\n",
              "      </script>\n",
              "    </div>\n",
              "  </div>\n",
              "  "
            ]
          },
          "metadata": {},
          "execution_count": 37
        }
      ]
    },
    {
      "cell_type": "code",
      "source": [
        ""
      ],
      "metadata": {
        "id": "bQlsSwUC3e0N"
      },
      "execution_count": null,
      "outputs": []
    }
  ]
}